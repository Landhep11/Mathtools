{
  "nbformat": 4,
  "nbformat_minor": 0,
  "metadata": {
    "colab": {
      "name": "tugas05.ipynb",
      "provenance": [],
      "collapsed_sections": [],
      "authorship_tag": "ABX9TyMLNv82eo9wWOKpR6VK+ph3",
      "include_colab_link": true
    },
    "kernelspec": {
      "name": "python3",
      "display_name": "Python 3"
    },
    "language_info": {
      "name": "python"
    }
  },
  "cells": [
    {
      "cell_type": "markdown",
      "metadata": {
        "id": "view-in-github",
        "colab_type": "text"
      },
      "source": [
        "<a href=\"https://colab.research.google.com/github/Landhep11/Mathtools/blob/main/tugas05.ipynb\" target=\"_parent\"><img src=\"https://colab.research.google.com/assets/colab-badge.svg\" alt=\"Open In Colab\"/></a>"
      ]
    },
    {
      "cell_type": "code",
      "execution_count": null,
      "metadata": {
        "colab": {
          "base_uri": "https://localhost:8080/"
        },
        "id": "4Ny5yoQ-6APA",
        "outputId": "b508446a-ceff-481c-bb1d-0484e5cacf41"
      },
      "outputs": [
        {
          "output_type": "stream",
          "name": "stdout",
          "text": [
            "Looking in indexes: https://pypi.org/simple, https://us-python.pkg.dev/colab-wheels/public/simple/\n",
            "Requirement already satisfied: ray in /usr/local/lib/python3.7/dist-packages (1.13.0)\n",
            "Requirement already satisfied: protobuf<4.0.0,>=3.15.3 in /usr/local/lib/python3.7/dist-packages (from ray) (3.17.3)\n",
            "Requirement already satisfied: click<=8.0.4,>=7.0 in /usr/local/lib/python3.7/dist-packages (from ray) (7.1.2)\n",
            "Requirement already satisfied: grpcio<=1.43.0,>=1.28.1 in /usr/local/lib/python3.7/dist-packages (from ray) (1.43.0)\n",
            "Requirement already satisfied: frozenlist in /usr/local/lib/python3.7/dist-packages (from ray) (1.3.0)\n",
            "Requirement already satisfied: jsonschema in /usr/local/lib/python3.7/dist-packages (from ray) (4.3.3)\n",
            "Requirement already satisfied: filelock in /usr/local/lib/python3.7/dist-packages (from ray) (3.7.1)\n",
            "Requirement already satisfied: aiosignal in /usr/local/lib/python3.7/dist-packages (from ray) (1.2.0)\n",
            "Requirement already satisfied: attrs in /usr/local/lib/python3.7/dist-packages (from ray) (21.4.0)\n",
            "Requirement already satisfied: numpy>=1.16 in /usr/local/lib/python3.7/dist-packages (from ray) (1.21.6)\n",
            "Requirement already satisfied: virtualenv in /usr/local/lib/python3.7/dist-packages (from ray) (20.16.1)\n",
            "Requirement already satisfied: pyyaml in /usr/local/lib/python3.7/dist-packages (from ray) (3.13)\n",
            "Requirement already satisfied: requests in /usr/local/lib/python3.7/dist-packages (from ray) (2.23.0)\n",
            "Requirement already satisfied: msgpack<2.0.0,>=1.0.0 in /usr/local/lib/python3.7/dist-packages (from ray) (1.0.4)\n",
            "Requirement already satisfied: six>=1.5.2 in /usr/local/lib/python3.7/dist-packages (from grpcio<=1.43.0,>=1.28.1->ray) (1.15.0)\n",
            "Requirement already satisfied: pyrsistent!=0.17.0,!=0.17.1,!=0.17.2,>=0.14.0 in /usr/local/lib/python3.7/dist-packages (from jsonschema->ray) (0.18.1)\n",
            "Requirement already satisfied: typing-extensions in /usr/local/lib/python3.7/dist-packages (from jsonschema->ray) (4.1.1)\n",
            "Requirement already satisfied: importlib-metadata in /usr/local/lib/python3.7/dist-packages (from jsonschema->ray) (4.12.0)\n",
            "Requirement already satisfied: importlib-resources>=1.4.0 in /usr/local/lib/python3.7/dist-packages (from jsonschema->ray) (5.8.0)\n",
            "Requirement already satisfied: zipp>=3.1.0 in /usr/local/lib/python3.7/dist-packages (from importlib-resources>=1.4.0->jsonschema->ray) (3.8.1)\n",
            "Requirement already satisfied: certifi>=2017.4.17 in /usr/local/lib/python3.7/dist-packages (from requests->ray) (2022.6.15)\n",
            "Requirement already satisfied: urllib3!=1.25.0,!=1.25.1,<1.26,>=1.21.1 in /usr/local/lib/python3.7/dist-packages (from requests->ray) (1.24.3)\n",
            "Requirement already satisfied: idna<3,>=2.5 in /usr/local/lib/python3.7/dist-packages (from requests->ray) (2.10)\n",
            "Requirement already satisfied: chardet<4,>=3.0.2 in /usr/local/lib/python3.7/dist-packages (from requests->ray) (3.0.4)\n",
            "Requirement already satisfied: platformdirs<3,>=2 in /usr/local/lib/python3.7/dist-packages (from virtualenv->ray) (2.5.2)\n",
            "Requirement already satisfied: distlib<1,>=0.3.1 in /usr/local/lib/python3.7/dist-packages (from virtualenv->ray) (0.3.5)\n"
          ]
        }
      ],
      "source": [
        "!pip install ray"
      ]
    },
    {
      "cell_type": "code",
      "source": [
        "import ray\n",
        "import pandas as pd\n",
        "\n",
        "# https://raw.githubusercontent.com/Landhep11/Mathtools/main/customer_data.csv\n",
        "ds = ray.data.read_csv('/content/customer_data.csv')"
      ],
      "metadata": {
        "id": "n_QdwwkC6E4o"
      },
      "execution_count": null,
      "outputs": []
    },
    {
      "cell_type": "code",
      "source": [
        "# Menampilkan data ke table\n",
        "\n",
        "ds.show()"
      ],
      "metadata": {
        "colab": {
          "base_uri": "https://localhost:8080/"
        },
        "id": "wwet-fNh6Xbo",
        "outputId": "21f5c236-c0b2-4035-c94f-1c2279d41c0e"
      },
      "execution_count": null,
      "outputs": [
        {
          "output_type": "stream",
          "name": "stdout",
          "text": [
            "{'label': 0, 'id': 54983601, 'fea_1': 5, 'fea_2': 1241.0, 'fea_3': 3, 'fea_4': 35000.0, 'fea_5': 2, 'fea_6': 15, 'fea_7': 5, 'fea_8': 104, 'fea_9': 5, 'fea_10': 151300, 'fea_11': 243.35365209999998}\n",
            "{'label': 1, 'id': 58982354, 'fea_1': 1, 'fea_2': 1343.0, 'fea_3': 1, 'fea_4': 550000.0, 'fea_5': 2, 'fea_6': 5, 'fea_7': -1, 'fea_8': 77, 'fea_9': 5, 'fea_10': 350024, 'fea_11': 1.0}\n",
            "{'label': 0, 'id': 54988030, 'fea_1': 7, 'fea_2': 1278.5, 'fea_3': 3, 'fea_4': 131000.0, 'fea_5': 2, 'fea_6': 11, 'fea_7': 5, 'fea_8': 110, 'fea_9': 3, 'fea_10': 60001, 'fea_11': 1.0}\n",
            "{'label': 0, 'id': 58989284, 'fea_1': 7, 'fea_2': 1248.5, 'fea_3': 3, 'fea_4': 146000.0, 'fea_5': 2, 'fea_6': 11, 'fea_7': 10, 'fea_8': 105, 'fea_9': 5, 'fea_10': 350704, 'fea_11': 339.9441131}\n",
            "{'label': 1, 'id': 54986544, 'fea_1': 7, 'fea_2': 1214.0, 'fea_3': 3, 'fea_4': 51000.0, 'fea_5': 2, 'fea_6': 11, 'fea_7': 9, 'fea_8': 111, 'fea_9': 5, 'fea_10': 72000, 'fea_11': 1.0}\n",
            "{'label': 0, 'id': 54991100, 'fea_1': 4, 'fea_2': 1292.0, 'fea_3': 3, 'fea_4': 195000.0, 'fea_5': 2, 'fea_6': 8, 'fea_7': 5, 'fea_8': 112, 'fea_9': 4, 'fea_10': 151300, 'fea_11': 1.0}\n",
            "{'label': 0, 'id': 54983895, 'fea_1': 5, 'fea_2': 1223.0, 'fea_3': 3, 'fea_4': 59000.0, 'fea_5': 2, 'fea_6': 15, 'fea_7': 5, 'fea_8': 112, 'fea_9': 4, 'fea_10': 510101, 'fea_11': 200.0}\n",
            "{'label': 0, 'id': 58988853, 'fea_1': 7, 'fea_2': 1290.5, 'fea_3': 3, 'fea_4': 116000.0, 'fea_5': 1, 'fea_6': 11, 'fea_7': 5, 'fea_8': 109, 'fea_9': 4, 'fea_10': 60062, 'fea_11': 196.4942747}\n",
            "{'label': 0, 'id': 59003935, 'fea_1': 4, 'fea_2': 1308.5, 'fea_3': 1, 'fea_4': 125000.0, 'fea_5': 1, 'fea_6': 8, 'fea_7': 5, 'fea_8': 104, 'fea_9': 3, 'fea_10': 72000, 'fea_11': 181.65902119999998}\n",
            "{'label': 0, 'id': 58987097, 'fea_1': 5, 'fea_2': 1248.5, 'fea_3': 3, 'fea_4': 98000.0, 'fea_5': 2, 'fea_6': 15, 'fea_7': 5, 'fea_8': 110, 'fea_9': 4, 'fea_10': 550003, 'fea_11': 178.8854382}\n",
            "{'label': 1, 'id': 54985832, 'fea_1': 7, 'fea_2': 1308.5, 'fea_3': 3, 'fea_4': 500000.0, 'fea_5': 2, 'fea_6': 11, 'fea_7': 9, 'fea_8': 85, 'fea_9': 5, 'fea_10': 60001, 'fea_11': 387.29833460000003}\n",
            "{'label': 0, 'id': 58983850, 'fea_1': 5, 'fea_2': 1221.5, 'fea_3': 3, 'fea_4': 97000.0, 'fea_5': 2, 'fea_6': 15, 'fea_7': 9, 'fea_8': 109, 'fea_9': 4, 'fea_10': 72001, 'fea_11': 263.3097036}\n",
            "{'label': 0, 'id': 59004654, 'fea_1': 4, 'fea_2': 1352.0, 'fea_3': 1, 'fea_4': 168000.0, 'fea_5': 2, 'fea_6': 8, 'fea_7': 5, 'fea_8': 105, 'fea_9': 3, 'fea_10': 60017, 'fea_11': 223.6067977}\n",
            "{'label': 0, 'id': 58996069, 'fea_1': 7, 'fea_2': 1233.5, 'fea_3': 3, 'fea_4': 62000.0, 'fea_5': 2, 'fea_6': 11, 'fea_7': 3, 'fea_8': 88, 'fea_9': 3, 'fea_10': 450194, 'fea_11': 244.94897430000003}\n",
            "{'label': 0, 'id': 54984616, 'fea_1': 5, 'fea_2': None, 'fea_3': 2, 'fea_4': 102000.0, 'fea_5': 2, 'fea_6': 15, 'fea_7': 5, 'fea_8': 104, 'fea_9': 3, 'fea_10': 350055, 'fea_11': 184.39088909999998}\n",
            "{'label': 0, 'id': 54984766, 'fea_1': 5, 'fea_2': 1283.0, 'fea_3': 3, 'fea_4': 90000.0, 'fea_5': 2, 'fea_6': 15, 'fea_7': 5, 'fea_8': 112, 'fea_9': 4, 'fea_10': 510094, 'fea_11': 189.7366596}\n",
            "{'label': 1, 'id': 58993621, 'fea_1': 7, 'fea_2': 1272.5, 'fea_3': 3, 'fea_4': 80000.0, 'fea_5': 2, 'fea_6': 11, 'fea_7': 9, 'fea_8': 86, 'fea_9': 4, 'fea_10': 60043, 'fea_11': 1.0}\n",
            "{'label': 0, 'id': 54982579, 'fea_1': 5, 'fea_2': 1338.5, 'fea_3': 3, 'fea_4': 325000.0, 'fea_5': 2, 'fea_6': 15, 'fea_7': 5, 'fea_8': 110, 'fea_9': 5, 'fea_10': 60033, 'fea_11': 316.22776600000003}\n",
            "{'label': 0, 'id': 58997200, 'fea_1': 7, 'fea_2': 1376.0, 'fea_3': 1, 'fea_4': 150000.0, 'fea_5': 2, 'fea_6': 11, 'fea_7': -1, 'fea_8': 110, 'fea_9': 4, 'fea_10': 60000, 'fea_11': 219.2487172}\n",
            "{'label': 1, 'id': 59000101, 'fea_1': 4, 'fea_2': 1223.0, 'fea_3': 3, 'fea_4': 50000.0, 'fea_5': 2, 'fea_6': 8, 'fea_7': 5, 'fea_8': 110, 'fea_9': 4, 'fea_10': 72000, 'fea_11': 173.20508080000002}\n"
          ]
        }
      ]
    },
    {
      "cell_type": "code",
      "source": [
        "# Filter Data\n",
        "\n",
        "def transform_batch(df: pd.DataFrame) -> pd.DataFrame:\n",
        "    return df[(df[\"fea_2\"] < 1245.5) & (df[\"fea_7\"] > 1335.5)]\n",
        "\n",
        "# Map processing the dataset.\n",
        "ds.map_batches(transform_batch).show()\n"
      ],
      "metadata": {
        "colab": {
          "base_uri": "https://localhost:8080/"
        },
        "id": "OThd4kjl6Yde",
        "outputId": "7d3304a0-63ea-4f0a-f67f-a4562ac3f6a4"
      },
      "execution_count": null,
      "outputs": [
        {
          "output_type": "stream",
          "name": "stderr",
          "text": [
            "Read->Map_Batches: 100%|██████████| 1/1 [00:00<00:00, 35.99it/s]\n"
          ]
        }
      ]
    },
    {
      "cell_type": "code",
      "source": [
        "# Splitting Data\n",
        "\n",
        "# Split the dataset into 2 datasets\n",
        "split = ds.split(2)\n",
        "\n",
        "print(split)"
      ],
      "metadata": {
        "colab": {
          "base_uri": "https://localhost:8080/"
        },
        "id": "8dwwpCJcSsA5",
        "outputId": "98765d79-1a3f-44ed-c6de-50274cb67519"
      },
      "execution_count": null,
      "outputs": [
        {
          "output_type": "stream",
          "name": "stdout",
          "text": [
            "[Dataset(num_blocks=1, num_rows=1125, schema={label: int64, id: int64, fea_1: int64, fea_2: double, fea_3: int64, fea_4: double, fea_5: int64, fea_6: int64, fea_7: int64, fea_8: int64, fea_9: int64, fea_10: int64, fea_11: double}), Dataset(num_blocks=0, num_rows=None, schema=Unknown schema)]\n"
          ]
        }
      ]
    },
    {
      "cell_type": "code",
      "source": [
        "# Sort Data\n",
        "\n",
        "# Sort the dataset by sepal.length.\n",
        "ds = ds.sort(\"fea_2\")\n",
        "ds.show(3)\n"
      ],
      "metadata": {
        "colab": {
          "base_uri": "https://localhost:8080/"
        },
        "id": "kzMXRuJLSzcs",
        "outputId": "58e89542-0aea-4184-b513-fc3e0b9c6823"
      },
      "execution_count": null,
      "outputs": [
        {
          "output_type": "stream",
          "name": "stderr",
          "text": [
            "Read: 100%|██████████| 1/1 [00:00<00:00, 37.49it/s]\n",
            "Sort Sample: 100%|██████████| 1/1 [00:00<00:00, 251.08it/s]\n",
            "Shuffle Map: 100%|██████████| 1/1 [00:00<00:00, 54.21it/s]\n",
            "Shuffle Reduce: 100%|██████████| 1/1 [00:00<00:00, 50.83it/s]"
          ]
        },
        {
          "output_type": "stream",
          "name": "stdout",
          "text": [
            "{'label': 0, 'id': 58983271, 'fea_1': 5, 'fea_2': 1116.5, 'fea_3': 3, 'fea_4': 214000.0, 'fea_5': 2, 'fea_6': 15, 'fea_7': 9, 'fea_8': 112, 'fea_9': 4, 'fea_10': 60019, 'fea_11': 200.0}\n",
            "{'label': 1, 'id': 54987300, 'fea_1': 7, 'fea_2': 1125.5, 'fea_3': 3, 'fea_4': 79000.0, 'fea_5': 2, 'fea_6': 11, 'fea_7': -1, 'fea_8': 107, 'fea_9': 5, 'fea_10': 450007, 'fea_11': 187.08286930000003}\n",
            "{'label': 0, 'id': 54982353, 'fea_1': 1, 'fea_2': 1130.0, 'fea_3': 2, 'fea_4': 1000000.0, 'fea_5': 2, 'fea_6': 4, 'fea_7': -1, 'fea_8': 100, 'fea_9': 5, 'fea_10': 650018, 'fea_11': 1.0}\n"
          ]
        },
        {
          "output_type": "stream",
          "name": "stderr",
          "text": [
            "\n"
          ]
        }
      ]
    },
    {
      "cell_type": "code",
      "source": [
        "# Shuffle the dataset.\n",
        "ds = ds.random_shuffle()\n",
        "ds.show(3)\n"
      ],
      "metadata": {
        "colab": {
          "base_uri": "https://localhost:8080/"
        },
        "id": "siSxs6zJS4vf",
        "outputId": "1abd3d1f-db48-4de2-d49b-b0ae19448bc9"
      },
      "execution_count": null,
      "outputs": [
        {
          "output_type": "stream",
          "name": "stderr",
          "text": [
            "Shuffle Map: 100%|██████████| 1/1 [00:00<00:00, 47.89it/s]\n",
            "Shuffle Reduce: 100%|██████████| 1/1 [00:00<00:00, 42.97it/s]"
          ]
        },
        {
          "output_type": "stream",
          "name": "stdout",
          "text": [
            "{'label': 0, 'id': 54983601, 'fea_1': 5, 'fea_2': 1241.0, 'fea_3': 3, 'fea_4': 35000.0, 'fea_5': 2, 'fea_6': 15, 'fea_7': 5, 'fea_8': 104, 'fea_9': 5, 'fea_10': 151300, 'fea_11': 243.35365209999998}\n",
            "{'label': 1, 'id': 58982354, 'fea_1': 1, 'fea_2': 1343.0, 'fea_3': 1, 'fea_4': 550000.0, 'fea_5': 2, 'fea_6': 5, 'fea_7': -1, 'fea_8': 77, 'fea_9': 5, 'fea_10': 350024, 'fea_11': 1.0}\n",
            "{'label': 0, 'id': 54988030, 'fea_1': 7, 'fea_2': 1278.5, 'fea_3': 3, 'fea_4': 131000.0, 'fea_5': 2, 'fea_6': 11, 'fea_7': 5, 'fea_8': 110, 'fea_9': 3, 'fea_10': 60001, 'fea_11': 1.0}\n"
          ]
        },
        {
          "output_type": "stream",
          "name": "stderr",
          "text": [
            "\n"
          ]
        }
      ]
    },
    {
      "cell_type": "code",
      "source": [
        "# Group by the variety.\n",
        "label = ds.groupby(\"label\").count().show()\n",
        "\n",
        "print(label)"
      ],
      "metadata": {
        "colab": {
          "base_uri": "https://localhost:8080/"
        },
        "id": "bK9X_PVXS73e",
        "outputId": "2585df1e-945c-4300-dd88-15666114da49"
      },
      "execution_count": null,
      "outputs": [
        {
          "output_type": "stream",
          "name": "stderr",
          "text": [
            "Sort Sample: 100%|██████████| 1/1 [00:00<00:00, 142.47it/s]\n",
            "Shuffle Map: 100%|██████████| 1/1 [00:00<00:00,  8.80it/s]\n",
            "Shuffle Reduce: 100%|██████████| 1/1 [00:00<00:00, 55.28it/s]"
          ]
        },
        {
          "output_type": "stream",
          "name": "stdout",
          "text": [
            "{'label': 0, 'count()': 900}\n",
            "{'label': 1, 'count()': 225}\n",
            "None\n"
          ]
        },
        {
          "output_type": "stream",
          "name": "stderr",
          "text": [
            "\n"
          ]
        }
      ]
    }
  ]
}