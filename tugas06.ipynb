{
  "nbformat": 4,
  "nbformat_minor": 0,
  "metadata": {
    "colab": {
      "name": "Untitled5.ipynb",
      "provenance": [],
      "authorship_tag": "ABX9TyPNtW98hmmKH5KWaTFRnYxi",
      "include_colab_link": true
    },
    "kernelspec": {
      "name": "python3",
      "display_name": "Python 3"
    },
    "language_info": {
      "name": "python"
    }
  },
  "cells": [
    {
      "cell_type": "markdown",
      "metadata": {
        "id": "view-in-github",
        "colab_type": "text"
      },
      "source": [
        "<a href=\"https://colab.research.google.com/github/Landhep11/Mathtools/blob/main/tugas06.ipynb\" target=\"_parent\"><img src=\"https://colab.research.google.com/assets/colab-badge.svg\" alt=\"Open In Colab\"/></a>"
      ]
    },
    {
      "cell_type": "code",
      "execution_count": null,
      "metadata": {
        "id": "e-e-x3tLbDr6"
      },
      "outputs": [],
      "source": [
        "# Import Module\n",
        "\n",
        "import pandas as pd\n",
        "import numpy as np\n",
        "from math import sqrt\n",
        "import seaborn as sns\n",
        "from matplotlib import pyplot as plt\n",
        "\n",
        "# Statistics\n",
        "from statistics import median,mean, stdev\n",
        "from scipy import signal\n",
        "\n",
        "import scipy.stats as stats\n",
        "from scipy.stats import poisson, norm\n",
        "from scipy.special import factorial"
      ]
    },
    {
      "cell_type": "code",
      "source": [
        "# Import Data\n",
        "df = pd.read_csv('https://raw.githubusercontent.com/Landhep11/Mathtools/main/customer_data.csv')\n",
        "df.describe()"
      ],
      "metadata": {
        "colab": {
          "base_uri": "https://localhost:8080/",
          "height": 300
        },
        "id": "LAjZLop8bG24",
        "outputId": "fb91fecd-6153-4925-e141-780ebadf1887"
      },
      "execution_count": null,
      "outputs": [
        {
          "output_type": "execute_result",
          "data": {
            "text/plain": [
              "             label            id        fea_1        fea_2        fea_3  \\\n",
              "count  1125.000000  1.125000e+03  1125.000000   976.000000  1125.000000   \n",
              "mean      0.200000  5.783677e+07     5.482667  1283.911373     2.333333   \n",
              "std       0.400178  1.817150e+06     1.383338    51.764022     0.878773   \n",
              "min       0.000000  5.498235e+07     1.000000  1116.500000     1.000000   \n",
              "25%       0.000000  5.499050e+07     4.000000  1244.000000     1.000000   \n",
              "50%       0.000000  5.898975e+07     5.000000  1281.500000     3.000000   \n",
              "75%       0.000000  5.899799e+07     7.000000  1314.500000     3.000000   \n",
              "max       1.000000  5.900624e+07     7.000000  1481.000000     3.000000   \n",
              "\n",
              "              fea_4        fea_5        fea_6        fea_7        fea_8  \\\n",
              "count  1.125000e+03  1125.000000  1125.000000  1125.000000  1125.000000   \n",
              "mean   1.208836e+05     1.928889    10.872000     4.832889   100.802667   \n",
              "std    8.844523e+04     0.257125     2.676437     2.971182    11.988955   \n",
              "min    1.500000e+04     1.000000     3.000000    -1.000000    64.000000   \n",
              "25%    7.200000e+04     2.000000     8.000000     5.000000    90.000000   \n",
              "50%    1.020000e+05     2.000000    11.000000     5.000000   105.000000   \n",
              "75%    1.390000e+05     2.000000    11.000000     5.000000   111.000000   \n",
              "max    1.200000e+06     2.000000    16.000000    10.000000   115.000000   \n",
              "\n",
              "             fea_9         fea_10       fea_11  \n",
              "count  1125.000000    1125.000000  1125.000000  \n",
              "mean      4.195556  164618.495111   134.999004  \n",
              "std       0.855679  152520.488281   112.616798  \n",
              "min       1.000000   60000.000000     1.000000  \n",
              "25%       3.000000   60044.000000     1.000000  \n",
              "50%       4.000000   72000.000000   173.205081  \n",
              "75%       5.000000  151307.000000   202.484567  \n",
              "max       5.000000  650070.000000   707.106781  "
            ],
            "text/html": [
              "\n",
              "  <div id=\"df-2ffc3464-9cc0-496f-a63c-65a263fc2d22\">\n",
              "    <div class=\"colab-df-container\">\n",
              "      <div>\n",
              "<style scoped>\n",
              "    .dataframe tbody tr th:only-of-type {\n",
              "        vertical-align: middle;\n",
              "    }\n",
              "\n",
              "    .dataframe tbody tr th {\n",
              "        vertical-align: top;\n",
              "    }\n",
              "\n",
              "    .dataframe thead th {\n",
              "        text-align: right;\n",
              "    }\n",
              "</style>\n",
              "<table border=\"1\" class=\"dataframe\">\n",
              "  <thead>\n",
              "    <tr style=\"text-align: right;\">\n",
              "      <th></th>\n",
              "      <th>label</th>\n",
              "      <th>id</th>\n",
              "      <th>fea_1</th>\n",
              "      <th>fea_2</th>\n",
              "      <th>fea_3</th>\n",
              "      <th>fea_4</th>\n",
              "      <th>fea_5</th>\n",
              "      <th>fea_6</th>\n",
              "      <th>fea_7</th>\n",
              "      <th>fea_8</th>\n",
              "      <th>fea_9</th>\n",
              "      <th>fea_10</th>\n",
              "      <th>fea_11</th>\n",
              "    </tr>\n",
              "  </thead>\n",
              "  <tbody>\n",
              "    <tr>\n",
              "      <th>count</th>\n",
              "      <td>1125.000000</td>\n",
              "      <td>1.125000e+03</td>\n",
              "      <td>1125.000000</td>\n",
              "      <td>976.000000</td>\n",
              "      <td>1125.000000</td>\n",
              "      <td>1.125000e+03</td>\n",
              "      <td>1125.000000</td>\n",
              "      <td>1125.000000</td>\n",
              "      <td>1125.000000</td>\n",
              "      <td>1125.000000</td>\n",
              "      <td>1125.000000</td>\n",
              "      <td>1125.000000</td>\n",
              "      <td>1125.000000</td>\n",
              "    </tr>\n",
              "    <tr>\n",
              "      <th>mean</th>\n",
              "      <td>0.200000</td>\n",
              "      <td>5.783677e+07</td>\n",
              "      <td>5.482667</td>\n",
              "      <td>1283.911373</td>\n",
              "      <td>2.333333</td>\n",
              "      <td>1.208836e+05</td>\n",
              "      <td>1.928889</td>\n",
              "      <td>10.872000</td>\n",
              "      <td>4.832889</td>\n",
              "      <td>100.802667</td>\n",
              "      <td>4.195556</td>\n",
              "      <td>164618.495111</td>\n",
              "      <td>134.999004</td>\n",
              "    </tr>\n",
              "    <tr>\n",
              "      <th>std</th>\n",
              "      <td>0.400178</td>\n",
              "      <td>1.817150e+06</td>\n",
              "      <td>1.383338</td>\n",
              "      <td>51.764022</td>\n",
              "      <td>0.878773</td>\n",
              "      <td>8.844523e+04</td>\n",
              "      <td>0.257125</td>\n",
              "      <td>2.676437</td>\n",
              "      <td>2.971182</td>\n",
              "      <td>11.988955</td>\n",
              "      <td>0.855679</td>\n",
              "      <td>152520.488281</td>\n",
              "      <td>112.616798</td>\n",
              "    </tr>\n",
              "    <tr>\n",
              "      <th>min</th>\n",
              "      <td>0.000000</td>\n",
              "      <td>5.498235e+07</td>\n",
              "      <td>1.000000</td>\n",
              "      <td>1116.500000</td>\n",
              "      <td>1.000000</td>\n",
              "      <td>1.500000e+04</td>\n",
              "      <td>1.000000</td>\n",
              "      <td>3.000000</td>\n",
              "      <td>-1.000000</td>\n",
              "      <td>64.000000</td>\n",
              "      <td>1.000000</td>\n",
              "      <td>60000.000000</td>\n",
              "      <td>1.000000</td>\n",
              "    </tr>\n",
              "    <tr>\n",
              "      <th>25%</th>\n",
              "      <td>0.000000</td>\n",
              "      <td>5.499050e+07</td>\n",
              "      <td>4.000000</td>\n",
              "      <td>1244.000000</td>\n",
              "      <td>1.000000</td>\n",
              "      <td>7.200000e+04</td>\n",
              "      <td>2.000000</td>\n",
              "      <td>8.000000</td>\n",
              "      <td>5.000000</td>\n",
              "      <td>90.000000</td>\n",
              "      <td>3.000000</td>\n",
              "      <td>60044.000000</td>\n",
              "      <td>1.000000</td>\n",
              "    </tr>\n",
              "    <tr>\n",
              "      <th>50%</th>\n",
              "      <td>0.000000</td>\n",
              "      <td>5.898975e+07</td>\n",
              "      <td>5.000000</td>\n",
              "      <td>1281.500000</td>\n",
              "      <td>3.000000</td>\n",
              "      <td>1.020000e+05</td>\n",
              "      <td>2.000000</td>\n",
              "      <td>11.000000</td>\n",
              "      <td>5.000000</td>\n",
              "      <td>105.000000</td>\n",
              "      <td>4.000000</td>\n",
              "      <td>72000.000000</td>\n",
              "      <td>173.205081</td>\n",
              "    </tr>\n",
              "    <tr>\n",
              "      <th>75%</th>\n",
              "      <td>0.000000</td>\n",
              "      <td>5.899799e+07</td>\n",
              "      <td>7.000000</td>\n",
              "      <td>1314.500000</td>\n",
              "      <td>3.000000</td>\n",
              "      <td>1.390000e+05</td>\n",
              "      <td>2.000000</td>\n",
              "      <td>11.000000</td>\n",
              "      <td>5.000000</td>\n",
              "      <td>111.000000</td>\n",
              "      <td>5.000000</td>\n",
              "      <td>151307.000000</td>\n",
              "      <td>202.484567</td>\n",
              "    </tr>\n",
              "    <tr>\n",
              "      <th>max</th>\n",
              "      <td>1.000000</td>\n",
              "      <td>5.900624e+07</td>\n",
              "      <td>7.000000</td>\n",
              "      <td>1481.000000</td>\n",
              "      <td>3.000000</td>\n",
              "      <td>1.200000e+06</td>\n",
              "      <td>2.000000</td>\n",
              "      <td>16.000000</td>\n",
              "      <td>10.000000</td>\n",
              "      <td>115.000000</td>\n",
              "      <td>5.000000</td>\n",
              "      <td>650070.000000</td>\n",
              "      <td>707.106781</td>\n",
              "    </tr>\n",
              "  </tbody>\n",
              "</table>\n",
              "</div>\n",
              "      <button class=\"colab-df-convert\" onclick=\"convertToInteractive('df-2ffc3464-9cc0-496f-a63c-65a263fc2d22')\"\n",
              "              title=\"Convert this dataframe to an interactive table.\"\n",
              "              style=\"display:none;\">\n",
              "        \n",
              "  <svg xmlns=\"http://www.w3.org/2000/svg\" height=\"24px\"viewBox=\"0 0 24 24\"\n",
              "       width=\"24px\">\n",
              "    <path d=\"M0 0h24v24H0V0z\" fill=\"none\"/>\n",
              "    <path d=\"M18.56 5.44l.94 2.06.94-2.06 2.06-.94-2.06-.94-.94-2.06-.94 2.06-2.06.94zm-11 1L8.5 8.5l.94-2.06 2.06-.94-2.06-.94L8.5 2.5l-.94 2.06-2.06.94zm10 10l.94 2.06.94-2.06 2.06-.94-2.06-.94-.94-2.06-.94 2.06-2.06.94z\"/><path d=\"M17.41 7.96l-1.37-1.37c-.4-.4-.92-.59-1.43-.59-.52 0-1.04.2-1.43.59L10.3 9.45l-7.72 7.72c-.78.78-.78 2.05 0 2.83L4 21.41c.39.39.9.59 1.41.59.51 0 1.02-.2 1.41-.59l7.78-7.78 2.81-2.81c.8-.78.8-2.07 0-2.86zM5.41 20L4 18.59l7.72-7.72 1.47 1.35L5.41 20z\"/>\n",
              "  </svg>\n",
              "      </button>\n",
              "      \n",
              "  <style>\n",
              "    .colab-df-container {\n",
              "      display:flex;\n",
              "      flex-wrap:wrap;\n",
              "      gap: 12px;\n",
              "    }\n",
              "\n",
              "    .colab-df-convert {\n",
              "      background-color: #E8F0FE;\n",
              "      border: none;\n",
              "      border-radius: 50%;\n",
              "      cursor: pointer;\n",
              "      display: none;\n",
              "      fill: #1967D2;\n",
              "      height: 32px;\n",
              "      padding: 0 0 0 0;\n",
              "      width: 32px;\n",
              "    }\n",
              "\n",
              "    .colab-df-convert:hover {\n",
              "      background-color: #E2EBFA;\n",
              "      box-shadow: 0px 1px 2px rgba(60, 64, 67, 0.3), 0px 1px 3px 1px rgba(60, 64, 67, 0.15);\n",
              "      fill: #174EA6;\n",
              "    }\n",
              "\n",
              "    [theme=dark] .colab-df-convert {\n",
              "      background-color: #3B4455;\n",
              "      fill: #D2E3FC;\n",
              "    }\n",
              "\n",
              "    [theme=dark] .colab-df-convert:hover {\n",
              "      background-color: #434B5C;\n",
              "      box-shadow: 0px 1px 3px 1px rgba(0, 0, 0, 0.15);\n",
              "      filter: drop-shadow(0px 1px 2px rgba(0, 0, 0, 0.3));\n",
              "      fill: #FFFFFF;\n",
              "    }\n",
              "  </style>\n",
              "\n",
              "      <script>\n",
              "        const buttonEl =\n",
              "          document.querySelector('#df-2ffc3464-9cc0-496f-a63c-65a263fc2d22 button.colab-df-convert');\n",
              "        buttonEl.style.display =\n",
              "          google.colab.kernel.accessAllowed ? 'block' : 'none';\n",
              "\n",
              "        async function convertToInteractive(key) {\n",
              "          const element = document.querySelector('#df-2ffc3464-9cc0-496f-a63c-65a263fc2d22');\n",
              "          const dataTable =\n",
              "            await google.colab.kernel.invokeFunction('convertToInteractive',\n",
              "                                                     [key], {});\n",
              "          if (!dataTable) return;\n",
              "\n",
              "          const docLinkHtml = 'Like what you see? Visit the ' +\n",
              "            '<a target=\"_blank\" href=https://colab.research.google.com/notebooks/data_table.ipynb>data table notebook</a>'\n",
              "            + ' to learn more about interactive tables.';\n",
              "          element.innerHTML = '';\n",
              "          dataTable['output_type'] = 'display_data';\n",
              "          await google.colab.output.renderOutput(dataTable, element);\n",
              "          const docLink = document.createElement('div');\n",
              "          docLink.innerHTML = docLinkHtml;\n",
              "          element.appendChild(docLink);\n",
              "        }\n",
              "      </script>\n",
              "    </div>\n",
              "  </div>\n",
              "  "
            ]
          },
          "metadata": {},
          "execution_count": 2
        }
      ]
    },
    {
      "cell_type": "code",
      "source": [
        "# This function will find the mean of the given list\n",
        "def find_mean(ls:list):\n",
        "    # check if the list has some values\n",
        "    if ls:\n",
        "        # return the mean(sum_of_list_values/count_of_values_in_list)\n",
        "        return(sum(ls)/len(ls))\n",
        "    else:\n",
        "        return 0\n",
        "print(\"Mean for fea_1: \",find_mean(list(df['fea_1'])))\n"
      ],
      "metadata": {
        "colab": {
          "base_uri": "https://localhost:8080/"
        },
        "id": "eoD5Ysl2bMlG",
        "outputId": "5f9f0a84-b94d-4f2c-ecb9-83e8697e4e04"
      },
      "execution_count": null,
      "outputs": [
        {
          "output_type": "stream",
          "name": "stdout",
          "text": [
            "Mean for fea_1:  5.482666666666667\n"
          ]
        }
      ]
    },
    {
      "cell_type": "code",
      "source": [
        "# This function will calculate variance of the given list of data-points.\n",
        "# 1. calculate mean\n",
        "# 2. find deviation from mean\n",
        "# 3. square each deviation from mean\n",
        "# 4. Find the sum of squares\n",
        "# 5. Divide sum of squares by N-1(for sample data-points) or N(for population data-points)\n",
        "\n",
        "def calculate_variance(ls:list):\n",
        "    # check mean of the list of values\n",
        "    mean = find_mean(ls)\n",
        "    if mean!=0:\n",
        "        return sum((i - mean) ** 2 for i in ls) / len(ls)\n",
        "    else:\n",
        "        return 0\n",
        "    \n",
        "print(\"Variance for fea_1: \",calculate_variance(list(df['fea_1'])))"
      ],
      "metadata": {
        "colab": {
          "base_uri": "https://localhost:8080/"
        },
        "id": "uIwy048ibXt4",
        "outputId": "3f317e60-1053-42c9-f074-d513aa1b8be2"
      },
      "execution_count": null,
      "outputs": [
        {
          "output_type": "stream",
          "name": "stdout",
          "text": [
            "Variance for fea_1:  1.9119217777777606\n"
          ]
        }
      ]
    },
    {
      "cell_type": "code",
      "source": [
        "# This method will calculate the standard deviation\n",
        "def calculate_standard_deviation(ls:list):\n",
        "    return calculate_variance(ls)**(1/2)\n",
        "\n",
        "print(\"Standard Devation for fea_1: \",calculate_standard_deviation(list(df['fea_1'])))"
      ],
      "metadata": {
        "colab": {
          "base_uri": "https://localhost:8080/"
        },
        "id": "pdHaOTMQbld-",
        "outputId": "41f9653f-2d6b-4a6e-802d-342ee76d8763"
      },
      "execution_count": null,
      "outputs": [
        {
          "output_type": "stream",
          "name": "stdout",
          "text": [
            "Standard Devation for fea_1:  1.382722596104425\n"
          ]
        }
      ]
    },
    {
      "cell_type": "code",
      "source": [
        "# Normal Distribution\n",
        "mean_fea_1 = mean(df['fea_1'])\n",
        "sd_fea_1 = stdev(df['fea_1'])\n",
        "normal_df = norm.pdf(df['fea_1'],loc = mean_fea_1, scale = sd_fea_1)\n",
        "plt.plot(df['fea_1'], normal_df, 'bs')\n",
        "plt.show()"
      ],
      "metadata": {
        "colab": {
          "base_uri": "https://localhost:8080/",
          "height": 265
        },
        "id": "BAQczuHebuIq",
        "outputId": "1a2cf398-4289-4b0a-cad1-dad5ada2d9e8"
      },
      "execution_count": null,
      "outputs": [
        {
          "output_type": "display_data",
          "data": {
            "text/plain": [
              "<Figure size 432x288 with 1 Axes>"
            ],
            "image/png": "[encoded data removed]"
          },
          "metadata": {
            "needs_background": "light"
          }
        }
      ]
    },
    {
      "cell_type": "code",
      "source": [
        "# Poisson Distribution\n",
        "\n",
        "x=pd.Series(df['fea_1']).to_numpy()\n",
        "\n",
        "y = np.exp(-mean_fea_1)*np.power(mean_fea_1, x)/factorial(x)\n",
        "\n",
        "plt.figure(figsize=(15,8))\n",
        "plt.title('Poisson distribution with lambda=5', fontsize='xx-large')\n",
        "plt.plot(x, y, 'bs')\n",
        "plt.show()"
      ],
      "metadata": {
        "colab": {
          "base_uri": "https://localhost:8080/",
          "height": 503
        },
        "id": "rpG75JQHbuM1",
        "outputId": "a62b4d21-5ee5-47fe-d572-6e86a646ff03"
      },
      "execution_count": null,
      "outputs": [
        {
          "output_type": "display_data",
          "data": {
            "text/plain": [
              "<Figure size 1080x576 with 1 Axes>"
            ],
            "image/png": "[encoded data removed]"
          },
          "metadata": {
            "needs_background": "light"
          }
        }
      ]
    }
  ]
}